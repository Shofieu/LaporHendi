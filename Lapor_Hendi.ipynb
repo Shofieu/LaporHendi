{
  "nbformat": 4,
  "nbformat_minor": 0,
  "metadata": {
    "colab": {
      "name": "Lapor Hendi.ipynb",
      "provenance": [],
      "collapsed_sections": []
    },
    "kernelspec": {
      "display_name": "Python 3",
      "name": "python3"
    }
  },
  "cells": [
    {
      "cell_type": "markdown",
      "metadata": {
        "id": "yd2q7lTVwDRQ"
      },
      "source": [
        "Berikut "
      ]
    },
    {
      "cell_type": "code",
      "metadata": {
        "id": "MHN2Wo5_vsIr"
      },
      "source": [
        "import pandas as pd"
      ],
      "execution_count": 1,
      "outputs": []
    },
    {
      "cell_type": "code",
      "metadata": {
        "colab": {
          "base_uri": "https://localhost:8080/",
          "height": 711
        },
        "id": "m6Ji3mdqwd0P",
        "outputId": "cc2b6d12-24d3-467e-c2b0-03705178c270"
      },
      "source": [
        "#buka file\n",
        "raw_data = pd.read_json(\"/content/drive/MyDrive/laporhendi.json\", lines=True)\n",
        "\n",
        "#menampilkan file\n",
        "raw_data"
      ],
      "execution_count": 2,
      "outputs": [
        {
          "output_type": "execute_result",
          "data": {
            "text/html": [
              "<div>\n",
              "<style scoped>\n",
              "    .dataframe tbody tr th:only-of-type {\n",
              "        vertical-align: middle;\n",
              "    }\n",
              "\n",
              "    .dataframe tbody tr th {\n",
              "        vertical-align: top;\n",
              "    }\n",
              "\n",
              "    .dataframe thead th {\n",
              "        text-align: right;\n",
              "    }\n",
              "</style>\n",
              "<table border=\"1\" class=\"dataframe\">\n",
              "  <thead>\n",
              "    <tr style=\"text-align: right;\">\n",
              "      <th></th>\n",
              "      <th>id</th>\n",
              "      <th>conversation_id</th>\n",
              "      <th>created_at</th>\n",
              "      <th>date</th>\n",
              "      <th>time</th>\n",
              "      <th>timezone</th>\n",
              "      <th>user_id</th>\n",
              "      <th>username</th>\n",
              "      <th>name</th>\n",
              "      <th>place</th>\n",
              "      <th>tweet</th>\n",
              "      <th>mentions</th>\n",
              "      <th>urls</th>\n",
              "      <th>photos</th>\n",
              "      <th>replies_count</th>\n",
              "      <th>retweets_count</th>\n",
              "      <th>likes_count</th>\n",
              "      <th>hashtags</th>\n",
              "      <th>cashtags</th>\n",
              "      <th>link</th>\n",
              "      <th>retweet</th>\n",
              "      <th>quote_url</th>\n",
              "      <th>video</th>\n",
              "      <th>near</th>\n",
              "      <th>geo</th>\n",
              "      <th>source</th>\n",
              "      <th>user_rt_id</th>\n",
              "      <th>user_rt</th>\n",
              "      <th>retweet_id</th>\n",
              "      <th>reply_to</th>\n",
              "      <th>retweet_date</th>\n",
              "      <th>translate</th>\n",
              "      <th>trans_src</th>\n",
              "      <th>trans_dest</th>\n",
              "    </tr>\n",
              "  </thead>\n",
              "  <tbody>\n",
              "    <tr>\n",
              "      <th>0</th>\n",
              "      <td>1211515148235497477</td>\n",
              "      <td>1211515148235497472</td>\n",
              "      <td>2019-12-30 05:11:34</td>\n",
              "      <td>2019-12-30</td>\n",
              "      <td>05:11:34</td>\n",
              "      <td>UTC</td>\n",
              "      <td>94952923</td>\n",
              "      <td>rizaranugraha</td>\n",
              "      <td>albert</td>\n",
              "      <td></td>\n",
              "      <td>#laporhendi Pak @hendrarprihadi ijin bertanya ...</td>\n",
              "      <td>[hendrarprihadi]</td>\n",
              "      <td>[]</td>\n",
              "      <td>[]</td>\n",
              "      <td>1</td>\n",
              "      <td>0</td>\n",
              "      <td>0</td>\n",
              "      <td>[#laporhendi]</td>\n",
              "      <td>[]</td>\n",
              "      <td>https://twitter.com/rizaranugraha/status/12115...</td>\n",
              "      <td>False</td>\n",
              "      <td></td>\n",
              "      <td>0</td>\n",
              "      <td></td>\n",
              "      <td></td>\n",
              "      <td></td>\n",
              "      <td></td>\n",
              "      <td></td>\n",
              "      <td></td>\n",
              "      <td>[{'user_id': '94952923', 'username': 'rizaranu...</td>\n",
              "      <td></td>\n",
              "      <td></td>\n",
              "      <td></td>\n",
              "      <td></td>\n",
              "    </tr>\n",
              "    <tr>\n",
              "      <th>1</th>\n",
              "      <td>1211287545385897986</td>\n",
              "      <td>1211287545385897984</td>\n",
              "      <td>2019-12-29 14:07:10</td>\n",
              "      <td>2019-12-29</td>\n",
              "      <td>14:07:10</td>\n",
              "      <td>UTC</td>\n",
              "      <td>1172663050999984128</td>\n",
              "      <td>abdulhakimarr</td>\n",
              "      <td>Dulll</td>\n",
              "      <td></td>\n",
              "      <td>#laporhendi \\nNyuwun tulung pak mbok di damelk...</td>\n",
              "      <td>[hendrarprihadi]</td>\n",
              "      <td>[]</td>\n",
              "      <td>[https://pbs.twimg.com/media/EM9blswVUAES2ee.jpg]</td>\n",
              "      <td>1</td>\n",
              "      <td>0</td>\n",
              "      <td>4</td>\n",
              "      <td>[#laporhendi]</td>\n",
              "      <td>[]</td>\n",
              "      <td>https://twitter.com/Abdulhakimarr/status/12112...</td>\n",
              "      <td>False</td>\n",
              "      <td></td>\n",
              "      <td>0</td>\n",
              "      <td></td>\n",
              "      <td></td>\n",
              "      <td></td>\n",
              "      <td></td>\n",
              "      <td></td>\n",
              "      <td></td>\n",
              "      <td>[{'user_id': '1172663050999984128', 'username'...</td>\n",
              "      <td></td>\n",
              "      <td></td>\n",
              "      <td></td>\n",
              "      <td></td>\n",
              "    </tr>\n",
              "    <tr>\n",
              "      <th>2</th>\n",
              "      <td>1210958010232651777</td>\n",
              "      <td>1210958010232651776</td>\n",
              "      <td>2019-12-28 16:17:42</td>\n",
              "      <td>2019-12-28</td>\n",
              "      <td>16:17:42</td>\n",
              "      <td>UTC</td>\n",
              "      <td>2949162048</td>\n",
              "      <td>febykawul</td>\n",
              "      <td>#ReuniF.13</td>\n",
              "      <td></td>\n",
              "      <td>slogan #SemarangHebat tidak terlihat di jam2 m...</td>\n",
              "      <td>[hendrarprihadi]</td>\n",
              "      <td>[]</td>\n",
              "      <td>[]</td>\n",
              "      <td>1</td>\n",
              "      <td>0</td>\n",
              "      <td>0</td>\n",
              "      <td>[#semaranghebat, #laporhendi]</td>\n",
              "      <td>[]</td>\n",
              "      <td>https://twitter.com/febykawul/status/121095801...</td>\n",
              "      <td>False</td>\n",
              "      <td></td>\n",
              "      <td>0</td>\n",
              "      <td></td>\n",
              "      <td></td>\n",
              "      <td></td>\n",
              "      <td></td>\n",
              "      <td></td>\n",
              "      <td></td>\n",
              "      <td>[{'user_id': '2949162048', 'username': 'febyka...</td>\n",
              "      <td></td>\n",
              "      <td></td>\n",
              "      <td></td>\n",
              "      <td></td>\n",
              "    </tr>\n",
              "    <tr>\n",
              "      <th>3</th>\n",
              "      <td>1210582912413786112</td>\n",
              "      <td>1210582912413786112</td>\n",
              "      <td>2019-12-27 15:27:12</td>\n",
              "      <td>2019-12-27</td>\n",
              "      <td>15:27:12</td>\n",
              "      <td>UTC</td>\n",
              "      <td>841071379</td>\n",
              "      <td>salomolianggada</td>\n",
              "      <td>Salomo Lianggada</td>\n",
              "      <td></td>\n",
              "      <td>@P3Mkotasmg Lapor jalan di depan Pasar Pedurun...</td>\n",
              "      <td>[p3mkotasmg]</td>\n",
              "      <td>[]</td>\n",
              "      <td>[]</td>\n",
              "      <td>1</td>\n",
              "      <td>0</td>\n",
              "      <td>0</td>\n",
              "      <td>[#laporhendi]</td>\n",
              "      <td>[]</td>\n",
              "      <td>https://twitter.com/SalomoLianggada/status/121...</td>\n",
              "      <td>False</td>\n",
              "      <td></td>\n",
              "      <td>0</td>\n",
              "      <td></td>\n",
              "      <td></td>\n",
              "      <td></td>\n",
              "      <td></td>\n",
              "      <td></td>\n",
              "      <td></td>\n",
              "      <td>[{'user_id': '841071379', 'username': 'SalomoL...</td>\n",
              "      <td></td>\n",
              "      <td></td>\n",
              "      <td></td>\n",
              "      <td></td>\n",
              "    </tr>\n",
              "    <tr>\n",
              "      <th>4</th>\n",
              "      <td>1210573397068898304</td>\n",
              "      <td>1210573397068898304</td>\n",
              "      <td>2019-12-27 14:49:23</td>\n",
              "      <td>2019-12-27</td>\n",
              "      <td>14:49:23</td>\n",
              "      <td>UTC</td>\n",
              "      <td>1734718004</td>\n",
              "      <td>umihanif2</td>\n",
              "      <td>#AktivisSakitJiwa</td>\n",
              "      <td></td>\n",
              "      <td>@pln_123 daerah Purwosari Semarang Utara sdh d...</td>\n",
              "      <td>[pln_123, hendrarprihadi, ganjarpranowo]</td>\n",
              "      <td>[]</td>\n",
              "      <td>[]</td>\n",
              "      <td>0</td>\n",
              "      <td>0</td>\n",
              "      <td>0</td>\n",
              "      <td>[#laporhendi]</td>\n",
              "      <td>[]</td>\n",
              "      <td>https://twitter.com/umihanif2/status/121057339...</td>\n",
              "      <td>False</td>\n",
              "      <td></td>\n",
              "      <td>0</td>\n",
              "      <td></td>\n",
              "      <td></td>\n",
              "      <td></td>\n",
              "      <td></td>\n",
              "      <td></td>\n",
              "      <td></td>\n",
              "      <td>[{'user_id': '1734718004', 'username': 'umihan...</td>\n",
              "      <td></td>\n",
              "      <td></td>\n",
              "      <td></td>\n",
              "      <td></td>\n",
              "    </tr>\n",
              "    <tr>\n",
              "      <th>...</th>\n",
              "      <td>...</td>\n",
              "      <td>...</td>\n",
              "      <td>...</td>\n",
              "      <td>...</td>\n",
              "      <td>...</td>\n",
              "      <td>...</td>\n",
              "      <td>...</td>\n",
              "      <td>...</td>\n",
              "      <td>...</td>\n",
              "      <td>...</td>\n",
              "      <td>...</td>\n",
              "      <td>...</td>\n",
              "      <td>...</td>\n",
              "      <td>...</td>\n",
              "      <td>...</td>\n",
              "      <td>...</td>\n",
              "      <td>...</td>\n",
              "      <td>...</td>\n",
              "      <td>...</td>\n",
              "      <td>...</td>\n",
              "      <td>...</td>\n",
              "      <td>...</td>\n",
              "      <td>...</td>\n",
              "      <td>...</td>\n",
              "      <td>...</td>\n",
              "      <td>...</td>\n",
              "      <td>...</td>\n",
              "      <td>...</td>\n",
              "      <td>...</td>\n",
              "      <td>...</td>\n",
              "      <td>...</td>\n",
              "      <td>...</td>\n",
              "      <td>...</td>\n",
              "      <td>...</td>\n",
              "    </tr>\n",
              "    <tr>\n",
              "      <th>1270</th>\n",
              "      <td>1080663991297265664</td>\n",
              "      <td>1080663991297265664</td>\n",
              "      <td>2019-01-03 03:15:47</td>\n",
              "      <td>2019-01-03</td>\n",
              "      <td>03:15:47</td>\n",
              "      <td>UTC</td>\n",
              "      <td>1036164145</td>\n",
              "      <td>budiutomo920</td>\n",
              "      <td>Budhy Utomo</td>\n",
              "      <td></td>\n",
              "      <td>@P3Mkotasmg \\nSekedar menyalurkan keluh kesah ...</td>\n",
              "      <td>[p3mkotasmg, hendrarprihadi]</td>\n",
              "      <td>[https://www.facebook.com/groups/MIKSEMAR/perm...</td>\n",
              "      <td>[https://pbs.twimg.com/media/Dv9KJoHV4AIX1II.j...</td>\n",
              "      <td>1</td>\n",
              "      <td>0</td>\n",
              "      <td>0</td>\n",
              "      <td>[#laporhendi]</td>\n",
              "      <td>[]</td>\n",
              "      <td>https://twitter.com/budiutomo920/status/108066...</td>\n",
              "      <td>False</td>\n",
              "      <td></td>\n",
              "      <td>0</td>\n",
              "      <td></td>\n",
              "      <td></td>\n",
              "      <td></td>\n",
              "      <td></td>\n",
              "      <td></td>\n",
              "      <td></td>\n",
              "      <td>[{'user_id': '1036164145', 'username': 'budiut...</td>\n",
              "      <td></td>\n",
              "      <td></td>\n",
              "      <td></td>\n",
              "      <td></td>\n",
              "    </tr>\n",
              "    <tr>\n",
              "      <th>1271</th>\n",
              "      <td>1080509960717385728</td>\n",
              "      <td>1080509960717385728</td>\n",
              "      <td>2019-01-02 17:03:44</td>\n",
              "      <td>2019-01-02</td>\n",
              "      <td>17:03:44</td>\n",
              "      <td>UTC</td>\n",
              "      <td>2511620455</td>\n",
              "      <td>ikilhogenuk</td>\n",
              "      <td>Iki Lho Genuk Semarang</td>\n",
              "      <td></td>\n",
              "      <td>Ndan @disperkim_smg mohon pantauannya pas mala...</td>\n",
              "      <td>[disperkim_smg]</td>\n",
              "      <td>[]</td>\n",
              "      <td>[]</td>\n",
              "      <td>1</td>\n",
              "      <td>0</td>\n",
              "      <td>3</td>\n",
              "      <td>[#laporhendi]</td>\n",
              "      <td>[]</td>\n",
              "      <td>https://twitter.com/IkiLhoGenuk/status/1080509...</td>\n",
              "      <td>False</td>\n",
              "      <td></td>\n",
              "      <td>0</td>\n",
              "      <td></td>\n",
              "      <td></td>\n",
              "      <td></td>\n",
              "      <td></td>\n",
              "      <td></td>\n",
              "      <td></td>\n",
              "      <td>[{'user_id': '2511620455', 'username': 'IkiLho...</td>\n",
              "      <td></td>\n",
              "      <td></td>\n",
              "      <td></td>\n",
              "      <td></td>\n",
              "    </tr>\n",
              "    <tr>\n",
              "      <th>1272</th>\n",
              "      <td>1080478764641832960</td>\n",
              "      <td>1080478764641832960</td>\n",
              "      <td>2019-01-02 14:59:46</td>\n",
              "      <td>2019-01-02</td>\n",
              "      <td>14:59:46</td>\n",
              "      <td>UTC</td>\n",
              "      <td>920282848359202817</td>\n",
              "      <td>miksemar_info</td>\n",
              "      <td>MIK Semar Info</td>\n",
              "      <td></td>\n",
              "      <td>Informasi untuk @disperkim_smg @P3Mkotasmg @Pe...</td>\n",
              "      <td>[disperkim_smg, p3mkotasmg, pemkotsemarang, pr...</td>\n",
              "      <td>[]</td>\n",
              "      <td>[https://pbs.twimg.com/media/Dv6hq8LU8AE7QS2.j...</td>\n",
              "      <td>1</td>\n",
              "      <td>0</td>\n",
              "      <td>0</td>\n",
              "      <td>[#laporhendi, #kemalajateng]</td>\n",
              "      <td>[]</td>\n",
              "      <td>https://twitter.com/MikSemar_Info/status/10804...</td>\n",
              "      <td>False</td>\n",
              "      <td></td>\n",
              "      <td>0</td>\n",
              "      <td></td>\n",
              "      <td></td>\n",
              "      <td></td>\n",
              "      <td></td>\n",
              "      <td></td>\n",
              "      <td></td>\n",
              "      <td>[{'user_id': '920282848359202817', 'username':...</td>\n",
              "      <td></td>\n",
              "      <td></td>\n",
              "      <td></td>\n",
              "      <td></td>\n",
              "    </tr>\n",
              "    <tr>\n",
              "      <th>1273</th>\n",
              "      <td>1080154594745843712</td>\n",
              "      <td>1074677605742174208</td>\n",
              "      <td>2019-01-01 17:31:38</td>\n",
              "      <td>2019-01-01</td>\n",
              "      <td>17:31:38</td>\n",
              "      <td>UTC</td>\n",
              "      <td>4147570092</td>\n",
              "      <td>fenitafefe</td>\n",
              "      <td>Fefe.Fenita</td>\n",
              "      <td></td>\n",
              "      <td>@PemkotSemarang\\n@disperkim_smg @hendrarprihad...</td>\n",
              "      <td>[pemkotsemarang, disperkim_smg, hendrarprihadi]</td>\n",
              "      <td>[]</td>\n",
              "      <td>[]</td>\n",
              "      <td>1</td>\n",
              "      <td>0</td>\n",
              "      <td>0</td>\n",
              "      <td>[#laporhendi]</td>\n",
              "      <td>[]</td>\n",
              "      <td>https://twitter.com/FenitaFefe/status/10801545...</td>\n",
              "      <td>False</td>\n",
              "      <td></td>\n",
              "      <td>0</td>\n",
              "      <td></td>\n",
              "      <td></td>\n",
              "      <td></td>\n",
              "      <td></td>\n",
              "      <td></td>\n",
              "      <td></td>\n",
              "      <td>[{'user_id': '4147570092', 'username': 'Fenita...</td>\n",
              "      <td></td>\n",
              "      <td></td>\n",
              "      <td></td>\n",
              "      <td></td>\n",
              "    </tr>\n",
              "    <tr>\n",
              "      <th>1274</th>\n",
              "      <td>1079909078351077377</td>\n",
              "      <td>1078498128016240640</td>\n",
              "      <td>2019-01-01 01:16:02</td>\n",
              "      <td>2019-01-01</td>\n",
              "      <td>01:16:02</td>\n",
              "      <td>UTC</td>\n",
              "      <td>2331211339</td>\n",
              "      <td>harsavara_</td>\n",
              "      <td>harsa bahtiar 🌵</td>\n",
              "      <td></td>\n",
              "      <td>Mohon pita kejut yg ada di kawasan BSB Semaran...</td>\n",
              "      <td>[dishubkotasmg, hendrarprihadi, mbakitasmg, p3...</td>\n",
              "      <td>[]</td>\n",
              "      <td>[]</td>\n",
              "      <td>0</td>\n",
              "      <td>0</td>\n",
              "      <td>0</td>\n",
              "      <td>[#laporhendi]</td>\n",
              "      <td>[]</td>\n",
              "      <td>https://twitter.com/harsavara_/status/10799090...</td>\n",
              "      <td>False</td>\n",
              "      <td></td>\n",
              "      <td>0</td>\n",
              "      <td></td>\n",
              "      <td></td>\n",
              "      <td></td>\n",
              "      <td></td>\n",
              "      <td></td>\n",
              "      <td></td>\n",
              "      <td>[{'user_id': '2331211339', 'username': 'harsav...</td>\n",
              "      <td></td>\n",
              "      <td></td>\n",
              "      <td></td>\n",
              "      <td></td>\n",
              "    </tr>\n",
              "  </tbody>\n",
              "</table>\n",
              "<p>1275 rows × 34 columns</p>\n",
              "</div>"
            ],
            "text/plain": [
              "                       id      conversation_id  ... trans_src trans_dest\n",
              "0     1211515148235497477  1211515148235497472  ...                     \n",
              "1     1211287545385897986  1211287545385897984  ...                     \n",
              "2     1210958010232651777  1210958010232651776  ...                     \n",
              "3     1210582912413786112  1210582912413786112  ...                     \n",
              "4     1210573397068898304  1210573397068898304  ...                     \n",
              "...                   ...                  ...  ...       ...        ...\n",
              "1270  1080663991297265664  1080663991297265664  ...                     \n",
              "1271  1080509960717385728  1080509960717385728  ...                     \n",
              "1272  1080478764641832960  1080478764641832960  ...                     \n",
              "1273  1080154594745843712  1074677605742174208  ...                     \n",
              "1274  1079909078351077377  1078498128016240640  ...                     \n",
              "\n",
              "[1275 rows x 34 columns]"
            ]
          },
          "metadata": {},
          "execution_count": 2
        }
      ]
    },
    {
      "cell_type": "code",
      "metadata": {
        "colab": {
          "base_uri": "https://localhost:8080/"
        },
        "id": "kXV6wv6dw2t9",
        "outputId": "bcecb1e5-82cd-4134-c555-e8ec0840405a"
      },
      "source": [
        "#menduplikasi file json ke variabel yang baru\n",
        "twt = raw_data.copy()\n",
        "\n",
        "#menampilkan info tipe data tabel\n",
        "twt.info()"
      ],
      "execution_count": 3,
      "outputs": [
        {
          "output_type": "stream",
          "name": "stdout",
          "text": [
            "<class 'pandas.core.frame.DataFrame'>\n",
            "RangeIndex: 1275 entries, 0 to 1274\n",
            "Data columns (total 34 columns):\n",
            " #   Column           Non-Null Count  Dtype         \n",
            "---  ------           --------------  -----         \n",
            " 0   id               1275 non-null   int64         \n",
            " 1   conversation_id  1275 non-null   int64         \n",
            " 2   created_at       1275 non-null   datetime64[ns]\n",
            " 3   date             1275 non-null   datetime64[ns]\n",
            " 4   time             1275 non-null   object        \n",
            " 5   timezone         1275 non-null   object        \n",
            " 6   user_id          1275 non-null   int64         \n",
            " 7   username         1275 non-null   object        \n",
            " 8   name             1275 non-null   object        \n",
            " 9   place            1275 non-null   object        \n",
            " 10  tweet            1275 non-null   object        \n",
            " 11  mentions         1275 non-null   object        \n",
            " 12  urls             1275 non-null   object        \n",
            " 13  photos           1275 non-null   object        \n",
            " 14  replies_count    1275 non-null   int64         \n",
            " 15  retweets_count   1275 non-null   int64         \n",
            " 16  likes_count      1275 non-null   int64         \n",
            " 17  hashtags         1275 non-null   object        \n",
            " 18  cashtags         1275 non-null   object        \n",
            " 19  link             1275 non-null   object        \n",
            " 20  retweet          1275 non-null   bool          \n",
            " 21  quote_url        1275 non-null   object        \n",
            " 22  video            1275 non-null   int64         \n",
            " 23  near             1275 non-null   object        \n",
            " 24  geo              1275 non-null   object        \n",
            " 25  source           1275 non-null   object        \n",
            " 26  user_rt_id       1275 non-null   object        \n",
            " 27  user_rt          1275 non-null   object        \n",
            " 28  retweet_id       1275 non-null   object        \n",
            " 29  reply_to         1275 non-null   object        \n",
            " 30  retweet_date     1275 non-null   object        \n",
            " 31  translate        1275 non-null   object        \n",
            " 32  trans_src        1275 non-null   object        \n",
            " 33  trans_dest       1275 non-null   object        \n",
            "dtypes: bool(1), datetime64[ns](2), int64(7), object(24)\n",
            "memory usage: 330.1+ KB\n"
          ]
        }
      ]
    },
    {
      "cell_type": "markdown",
      "metadata": {
        "id": "4VvyI1Qhw-0y"
      },
      "source": [
        "Pertama saya ingin menampilkan jumlah cuitan di tiap bulannya"
      ]
    },
    {
      "cell_type": "code",
      "metadata": {
        "colab": {
          "base_uri": "https://localhost:8080/"
        },
        "id": "i_xMCXThxHs9",
        "outputId": "23f86c11-9834-4e3f-bb7f-c0b841ef98be"
      },
      "source": [
        "#mengubah file datetime menjadi nama bulan\n",
        "twt['months'] = twt['date'].dt.month_name()\n",
        "\n",
        "#menampilkan nama bulan\n",
        "twt['months'].unique()"
      ],
      "execution_count": 4,
      "outputs": [
        {
          "output_type": "execute_result",
          "data": {
            "text/plain": [
              "array(['December', 'November', 'October', 'September', 'August', 'July',\n",
              "       'June', 'May', 'April', 'March', 'February', 'January'],\n",
              "      dtype=object)"
            ]
          },
          "metadata": {},
          "execution_count": 4
        }
      ]
    },
    {
      "cell_type": "code",
      "metadata": {
        "colab": {
          "base_uri": "https://localhost:8080/"
        },
        "id": "6wr0W07Jmmo2",
        "outputId": "d94fdcb3-55bb-4196-97c2-e48d70ba7522"
      },
      "source": [
        "#menampilkan jumlah twit per bulan\n",
        "twt['months'].value_counts()"
      ],
      "execution_count": 5,
      "outputs": [
        {
          "output_type": "execute_result",
          "data": {
            "text/plain": [
              "June         172\n",
              "February     148\n",
              "March        125\n",
              "July         115\n",
              "November     107\n",
              "October      102\n",
              "January      100\n",
              "September     95\n",
              "December      88\n",
              "April         78\n",
              "August        74\n",
              "May           71\n",
              "Name: months, dtype: int64"
            ]
          },
          "metadata": {},
          "execution_count": 5
        }
      ]
    },
    {
      "cell_type": "code",
      "metadata": {
        "id": "YEdZfeB9xwHI"
      },
      "source": [
        "#buka library untuk membuat plot atau grafik\n",
        "import matplotlib.pyplot as plt\n",
        "import seaborn as sns"
      ],
      "execution_count": 6,
      "outputs": []
    },
    {
      "cell_type": "code",
      "metadata": {
        "colab": {
          "base_uri": "https://localhost:8080/",
          "height": 538
        },
        "id": "94lWoJh7blbM",
        "outputId": "1192fa19-8976-4132-c3a3-46c1299e621c"
      },
      "source": [
        "#menampilkan dalam bentuk grafik\n",
        "plt.figure(figsize=(20, 8))\n",
        "\n",
        "#karena data sebelumnya berurutkan berdasar yang paling banyak cuitannya, disini saya urutkan berdasarkan urutan bulan\n",
        "bulan = sns.countplot(x='months', data=twt, palette=\"GnBu\",\n",
        "              order=[\"January\", \"February\", \"March\", \"April\", \"May\", \"June\",\"July\", \"August\", \"September\", \"October\",  \"November\",  \"December\"])\n",
        "bulan.set_xlabel('Bulan', fontsize = 12)\n",
        "bulan.set_ylabel('Jumlah Tweet', fontsize = 12)\n",
        "bulan.set_title(\"Jumlah Tweet Perbulan\", fontsize = 20)\n",
        "bulan"
      ],
      "execution_count": 7,
      "outputs": [
        {
          "output_type": "execute_result",
          "data": {
            "text/plain": [
              "<matplotlib.axes._subplots.AxesSubplot at 0x7fc2316865d0>"
            ]
          },
          "metadata": {},
          "execution_count": 7
        },
        {
          "output_type": "display_data",
          "data": {
            "image/png": "[encoded data removed]",
            "text/plain": [
              "<Figure size 1440x576 with 1 Axes>"
            ]
          },
          "metadata": {
            "needs_background": "light"
          }
        }
      ]
    },
    {
      "cell_type": "markdown",
      "metadata": {
        "id": "H6-i1WPz7z4N"
      },
      "source": [
        "Kedua saya mau menampilkan jumlah cuitan perjam di setiap harinya"
      ]
    },
    {
      "cell_type": "code",
      "metadata": {
        "colab": {
          "base_uri": "https://localhost:8080/"
        },
        "id": "5RbyuRe065Vy",
        "outputId": "6a066b0e-2d88-4798-c87f-d230f6673e4a"
      },
      "source": [
        "#mengubah file datetime menjadi jam\n",
        "def ambiljam(jam):\n",
        "  return jam[:2]\n",
        "twt['hour'] = twt['time'].apply(lambda x:ambiljam(x))\n",
        "twt['hour'].unique()"
      ],
      "execution_count": 8,
      "outputs": [
        {
          "output_type": "execute_result",
          "data": {
            "text/plain": [
              "array(['05', '14', '16', '15', '04', '07', '11', '08', '10', '01', '02',\n",
              "       '00', '12', '09', '13', '06', '22', '23', '03', '19', '18', '17',\n",
              "       '20', '21'], dtype=object)"
            ]
          },
          "metadata": {},
          "execution_count": 8
        }
      ]
    },
    {
      "cell_type": "code",
      "metadata": {
        "colab": {
          "base_uri": "https://localhost:8080/"
        },
        "id": "U1mBKwsFzVjE",
        "outputId": "90e7db4a-4525-4643-e2f9-9e5a32925b71"
      },
      "source": [
        "#mengubah data datetime menjadi nama hari\n",
        "twt['days'] = twt['created_at'].dt.day_name()\n",
        "twt['days'].unique()"
      ],
      "execution_count": 9,
      "outputs": [
        {
          "output_type": "execute_result",
          "data": {
            "text/plain": [
              "array(['Monday', 'Sunday', 'Saturday', 'Friday', 'Thursday', 'Wednesday',\n",
              "       'Tuesday'], dtype=object)"
            ]
          },
          "metadata": {},
          "execution_count": 9
        }
      ]
    },
    {
      "cell_type": "code",
      "metadata": {
        "colab": {
          "base_uri": "https://localhost:8080/"
        },
        "id": "M7WLiTct_IaM",
        "outputId": "63c9aa02-74e2-489e-ca7c-a69c32ad6208"
      },
      "source": [
        "#mengisi tiap isi cuitan bernilai 1\n",
        "twt['ntwit'] = 1\n",
        "twt['ntwit']"
      ],
      "execution_count": 10,
      "outputs": [
        {
          "output_type": "execute_result",
          "data": {
            "text/plain": [
              "0       1\n",
              "1       1\n",
              "2       1\n",
              "3       1\n",
              "4       1\n",
              "       ..\n",
              "1270    1\n",
              "1271    1\n",
              "1272    1\n",
              "1273    1\n",
              "1274    1\n",
              "Name: ntwit, Length: 1275, dtype: int64"
            ]
          },
          "metadata": {},
          "execution_count": 10
        }
      ]
    },
    {
      "cell_type": "code",
      "metadata": {
        "colab": {
          "base_uri": "https://localhost:8080/",
          "height": 297
        },
        "id": "W7qedbhlAtK2",
        "outputId": "d537214a-dea6-4f3d-ac45-4c8f221905cf"
      },
      "source": [
        "#Membuat table pivot sebagai dasar untuk membuat heatmap\n",
        "twthi = twt.pivot_table(index='days', columns='hour', values='ntwit', aggfunc='sum')\n",
        "twthi.index = pd.CategoricalIndex(twthi.index, categories= [\"Monday\", \"Tuesday\", \"Wednesday\", \"Thursday\", \"Friday\", \"Saturday\", \"Sunday\"])\n",
        "twthi.sort_index(level=0, inplace=True)\n",
        "twthi"
      ],
      "execution_count": 11,
      "outputs": [
        {
          "output_type": "execute_result",
          "data": {
            "text/html": [
              "<div>\n",
              "<style scoped>\n",
              "    .dataframe tbody tr th:only-of-type {\n",
              "        vertical-align: middle;\n",
              "    }\n",
              "\n",
              "    .dataframe tbody tr th {\n",
              "        vertical-align: top;\n",
              "    }\n",
              "\n",
              "    .dataframe thead th {\n",
              "        text-align: right;\n",
              "    }\n",
              "</style>\n",
              "<table border=\"1\" class=\"dataframe\">\n",
              "  <thead>\n",
              "    <tr style=\"text-align: right;\">\n",
              "      <th>hour</th>\n",
              "      <th>00</th>\n",
              "      <th>01</th>\n",
              "      <th>02</th>\n",
              "      <th>03</th>\n",
              "      <th>04</th>\n",
              "      <th>05</th>\n",
              "      <th>06</th>\n",
              "      <th>07</th>\n",
              "      <th>08</th>\n",
              "      <th>09</th>\n",
              "      <th>10</th>\n",
              "      <th>11</th>\n",
              "      <th>12</th>\n",
              "      <th>13</th>\n",
              "      <th>14</th>\n",
              "      <th>15</th>\n",
              "      <th>16</th>\n",
              "      <th>17</th>\n",
              "      <th>18</th>\n",
              "      <th>19</th>\n",
              "      <th>20</th>\n",
              "      <th>21</th>\n",
              "      <th>22</th>\n",
              "      <th>23</th>\n",
              "    </tr>\n",
              "    <tr>\n",
              "      <th>days</th>\n",
              "      <th></th>\n",
              "      <th></th>\n",
              "      <th></th>\n",
              "      <th></th>\n",
              "      <th></th>\n",
              "      <th></th>\n",
              "      <th></th>\n",
              "      <th></th>\n",
              "      <th></th>\n",
              "      <th></th>\n",
              "      <th></th>\n",
              "      <th></th>\n",
              "      <th></th>\n",
              "      <th></th>\n",
              "      <th></th>\n",
              "      <th></th>\n",
              "      <th></th>\n",
              "      <th></th>\n",
              "      <th></th>\n",
              "      <th></th>\n",
              "      <th></th>\n",
              "      <th></th>\n",
              "      <th></th>\n",
              "      <th></th>\n",
              "    </tr>\n",
              "  </thead>\n",
              "  <tbody>\n",
              "    <tr>\n",
              "      <th>Monday</th>\n",
              "      <td>3.0</td>\n",
              "      <td>10.0</td>\n",
              "      <td>16.0</td>\n",
              "      <td>19.0</td>\n",
              "      <td>14.0</td>\n",
              "      <td>15.0</td>\n",
              "      <td>13.0</td>\n",
              "      <td>12.0</td>\n",
              "      <td>10.0</td>\n",
              "      <td>7.0</td>\n",
              "      <td>14.0</td>\n",
              "      <td>7.0</td>\n",
              "      <td>12.0</td>\n",
              "      <td>6.0</td>\n",
              "      <td>7.0</td>\n",
              "      <td>6.0</td>\n",
              "      <td>4.0</td>\n",
              "      <td>7.0</td>\n",
              "      <td>3.0</td>\n",
              "      <td>2.0</td>\n",
              "      <td>1.0</td>\n",
              "      <td>NaN</td>\n",
              "      <td>2.0</td>\n",
              "      <td>5.0</td>\n",
              "    </tr>\n",
              "    <tr>\n",
              "      <th>Tuesday</th>\n",
              "      <td>9.0</td>\n",
              "      <td>7.0</td>\n",
              "      <td>12.0</td>\n",
              "      <td>19.0</td>\n",
              "      <td>16.0</td>\n",
              "      <td>8.0</td>\n",
              "      <td>12.0</td>\n",
              "      <td>9.0</td>\n",
              "      <td>25.0</td>\n",
              "      <td>12.0</td>\n",
              "      <td>15.0</td>\n",
              "      <td>18.0</td>\n",
              "      <td>10.0</td>\n",
              "      <td>14.0</td>\n",
              "      <td>8.0</td>\n",
              "      <td>20.0</td>\n",
              "      <td>6.0</td>\n",
              "      <td>4.0</td>\n",
              "      <td>NaN</td>\n",
              "      <td>2.0</td>\n",
              "      <td>NaN</td>\n",
              "      <td>1.0</td>\n",
              "      <td>5.0</td>\n",
              "      <td>4.0</td>\n",
              "    </tr>\n",
              "    <tr>\n",
              "      <th>Wednesday</th>\n",
              "      <td>6.0</td>\n",
              "      <td>10.0</td>\n",
              "      <td>8.0</td>\n",
              "      <td>14.0</td>\n",
              "      <td>20.0</td>\n",
              "      <td>6.0</td>\n",
              "      <td>10.0</td>\n",
              "      <td>7.0</td>\n",
              "      <td>5.0</td>\n",
              "      <td>7.0</td>\n",
              "      <td>10.0</td>\n",
              "      <td>14.0</td>\n",
              "      <td>5.0</td>\n",
              "      <td>5.0</td>\n",
              "      <td>4.0</td>\n",
              "      <td>10.0</td>\n",
              "      <td>3.0</td>\n",
              "      <td>2.0</td>\n",
              "      <td>2.0</td>\n",
              "      <td>2.0</td>\n",
              "      <td>NaN</td>\n",
              "      <td>3.0</td>\n",
              "      <td>4.0</td>\n",
              "      <td>4.0</td>\n",
              "    </tr>\n",
              "    <tr>\n",
              "      <th>Thursday</th>\n",
              "      <td>12.0</td>\n",
              "      <td>17.0</td>\n",
              "      <td>18.0</td>\n",
              "      <td>15.0</td>\n",
              "      <td>10.0</td>\n",
              "      <td>8.0</td>\n",
              "      <td>5.0</td>\n",
              "      <td>7.0</td>\n",
              "      <td>10.0</td>\n",
              "      <td>13.0</td>\n",
              "      <td>9.0</td>\n",
              "      <td>14.0</td>\n",
              "      <td>4.0</td>\n",
              "      <td>5.0</td>\n",
              "      <td>9.0</td>\n",
              "      <td>5.0</td>\n",
              "      <td>2.0</td>\n",
              "      <td>1.0</td>\n",
              "      <td>1.0</td>\n",
              "      <td>3.0</td>\n",
              "      <td>NaN</td>\n",
              "      <td>NaN</td>\n",
              "      <td>3.0</td>\n",
              "      <td>6.0</td>\n",
              "    </tr>\n",
              "    <tr>\n",
              "      <th>Friday</th>\n",
              "      <td>10.0</td>\n",
              "      <td>12.0</td>\n",
              "      <td>17.0</td>\n",
              "      <td>13.0</td>\n",
              "      <td>19.0</td>\n",
              "      <td>10.0</td>\n",
              "      <td>12.0</td>\n",
              "      <td>16.0</td>\n",
              "      <td>13.0</td>\n",
              "      <td>17.0</td>\n",
              "      <td>6.0</td>\n",
              "      <td>11.0</td>\n",
              "      <td>13.0</td>\n",
              "      <td>9.0</td>\n",
              "      <td>10.0</td>\n",
              "      <td>10.0</td>\n",
              "      <td>3.0</td>\n",
              "      <td>3.0</td>\n",
              "      <td>3.0</td>\n",
              "      <td>1.0</td>\n",
              "      <td>3.0</td>\n",
              "      <td>1.0</td>\n",
              "      <td>6.0</td>\n",
              "      <td>5.0</td>\n",
              "    </tr>\n",
              "    <tr>\n",
              "      <th>Saturday</th>\n",
              "      <td>7.0</td>\n",
              "      <td>6.0</td>\n",
              "      <td>12.0</td>\n",
              "      <td>8.0</td>\n",
              "      <td>8.0</td>\n",
              "      <td>6.0</td>\n",
              "      <td>5.0</td>\n",
              "      <td>5.0</td>\n",
              "      <td>6.0</td>\n",
              "      <td>6.0</td>\n",
              "      <td>10.0</td>\n",
              "      <td>12.0</td>\n",
              "      <td>12.0</td>\n",
              "      <td>4.0</td>\n",
              "      <td>6.0</td>\n",
              "      <td>6.0</td>\n",
              "      <td>6.0</td>\n",
              "      <td>3.0</td>\n",
              "      <td>1.0</td>\n",
              "      <td>4.0</td>\n",
              "      <td>4.0</td>\n",
              "      <td>2.0</td>\n",
              "      <td>2.0</td>\n",
              "      <td>4.0</td>\n",
              "    </tr>\n",
              "    <tr>\n",
              "      <th>Sunday</th>\n",
              "      <td>8.0</td>\n",
              "      <td>7.0</td>\n",
              "      <td>14.0</td>\n",
              "      <td>9.0</td>\n",
              "      <td>8.0</td>\n",
              "      <td>8.0</td>\n",
              "      <td>2.0</td>\n",
              "      <td>3.0</td>\n",
              "      <td>4.0</td>\n",
              "      <td>6.0</td>\n",
              "      <td>12.0</td>\n",
              "      <td>5.0</td>\n",
              "      <td>10.0</td>\n",
              "      <td>8.0</td>\n",
              "      <td>5.0</td>\n",
              "      <td>7.0</td>\n",
              "      <td>10.0</td>\n",
              "      <td>3.0</td>\n",
              "      <td>1.0</td>\n",
              "      <td>2.0</td>\n",
              "      <td>NaN</td>\n",
              "      <td>1.0</td>\n",
              "      <td>2.0</td>\n",
              "      <td>3.0</td>\n",
              "    </tr>\n",
              "  </tbody>\n",
              "</table>\n",
              "</div>"
            ],
            "text/plain": [
              "hour         00    01    02    03    04    05  ...   18   19   20   21   22   23\n",
              "days                                           ...                              \n",
              "Monday      3.0  10.0  16.0  19.0  14.0  15.0  ...  3.0  2.0  1.0  NaN  2.0  5.0\n",
              "Tuesday     9.0   7.0  12.0  19.0  16.0   8.0  ...  NaN  2.0  NaN  1.0  5.0  4.0\n",
              "Wednesday   6.0  10.0   8.0  14.0  20.0   6.0  ...  2.0  2.0  NaN  3.0  4.0  4.0\n",
              "Thursday   12.0  17.0  18.0  15.0  10.0   8.0  ...  1.0  3.0  NaN  NaN  3.0  6.0\n",
              "Friday     10.0  12.0  17.0  13.0  19.0  10.0  ...  3.0  1.0  3.0  1.0  6.0  5.0\n",
              "Saturday    7.0   6.0  12.0   8.0   8.0   6.0  ...  1.0  4.0  4.0  2.0  2.0  4.0\n",
              "Sunday      8.0   7.0  14.0   9.0   8.0   8.0  ...  1.0  2.0  NaN  1.0  2.0  3.0\n",
              "\n",
              "[7 rows x 24 columns]"
            ]
          },
          "metadata": {},
          "execution_count": 11
        }
      ]
    },
    {
      "cell_type": "code",
      "metadata": {
        "colab": {
          "base_uri": "https://localhost:8080/",
          "height": 501
        },
        "id": "VLmspHRhBzTS",
        "outputId": "186aaadf-7880-4a22-ea33-fd63e6589a62"
      },
      "source": [
        "plt.figure(figsize=(12, 8))\n",
        "heatmap = sns.heatmap(twthi, cmap='GnBu')"
      ],
      "execution_count": 12,
      "outputs": [
        {
          "output_type": "display_data",
          "data": {
            "image/png": "[encoded data removed]",
            "text/plain": [
              "<Figure size 864x576 with 2 Axes>"
            ]
          },
          "metadata": {
            "needs_background": "light"
          }
        }
      ]
    },
    {
      "cell_type": "code",
      "metadata": {
        "colab": {
          "base_uri": "https://localhost:8080/"
        },
        "id": "vgI_22rPXtmk",
        "outputId": "a84a28d9-1e16-47be-fe93-bc2ac93048e7"
      },
      "source": [
        "#banyaknya pengguna yang ngetwit\n",
        "print(len(twt['username'].unique()))"
      ],
      "execution_count": 13,
      "outputs": [
        {
          "output_type": "stream",
          "name": "stdout",
          "text": [
            "602\n"
          ]
        }
      ]
    },
    {
      "cell_type": "code",
      "metadata": {
        "colab": {
          "base_uri": "https://localhost:8080/"
        },
        "id": "Uh3wgBs13qT9",
        "outputId": "49497d52-9066-42a5-840c-9aab876b38be"
      },
      "source": [
        "#menghitung user paling banyak yang ngtweet\n",
        "usertwt = twt['username'].value_counts()[0:10]\n",
        "usertwt"
      ],
      "execution_count": 14,
      "outputs": [
        {
          "output_type": "execute_result",
          "data": {
            "text/plain": [
              "miksemar_info     79\n",
              "kristantiayu_     36\n",
              "yohana_resp       33\n",
              "fachrianantyo     32\n",
              "gusbs             23\n",
              "akuya_aikya       17\n",
              "sepurnomo11       11\n",
              "moegi33           11\n",
              "agungherry72      10\n",
              "hendrarprihadi    10\n",
              "Name: username, dtype: int64"
            ]
          },
          "metadata": {},
          "execution_count": 14
        }
      ]
    },
    {
      "cell_type": "code",
      "metadata": {
        "colab": {
          "base_uri": "https://localhost:8080/",
          "height": 498
        },
        "id": "NGOTSsS06Xjo",
        "outputId": "2c3eff01-cbb2-4268-b2e5-e43f878bfb84"
      },
      "source": [
        "plt.figure(figsize=(20, 8))\n",
        "userh = sns.countplot(palette=\"GnBu\", x = 'username', data = twt, order = twt['username'].value_counts().index[0:10])\n"
      ],
      "execution_count": 15,
      "outputs": [
        {
          "output_type": "display_data",
          "data": {
            "image/png": "[encoded data removed]",
            "text/plain": [
              "<Figure size 1440x576 with 1 Axes>"
            ]
          },
          "metadata": {
            "needs_background": "light"
          }
        }
      ]
    },
    {
      "cell_type": "code",
      "metadata": {
        "id": "2FSTrTQP_I3L"
      },
      "source": [
        "#print(len(twt['mentions']))\n",
        "#mention = twt['mentions'].value_counts()[0:10]\n",
        "#mention"
      ],
      "execution_count": 16,
      "outputs": []
    },
    {
      "cell_type": "code",
      "metadata": {
        "id": "WV0ELFk_Dgny"
      },
      "source": [
        "from itertools import combinations\n",
        "from collections import Counter"
      ],
      "execution_count": 17,
      "outputs": []
    },
    {
      "cell_type": "code",
      "metadata": {
        "colab": {
          "base_uri": "https://localhost:8080/"
        },
        "id": "TpQSps2tOKY7",
        "outputId": "0d793dfd-faf9-466c-b8ed-2f2014422c36"
      },
      "source": [
        "w = dict(Counter(twt['mentions'].sum()).most_common(10))\n",
        "w"
      ],
      "execution_count": 18,
      "outputs": [
        {
          "output_type": "execute_result",
          "data": {
            "text/plain": [
              "{'dishubkotasmg': 79,\n",
              " 'disperkim_smg': 64,\n",
              " 'ganjarpranowo': 155,\n",
              " 'hendrarprihadi': 957,\n",
              " 'p3mkotasmg': 382,\n",
              " 'pdamkotasmg': 125,\n",
              " 'pemkotsemarang': 45,\n",
              " 'pemkotsmg': 60,\n",
              " 'pln_123': 61,\n",
              " 'pu_kotasemarang': 47}"
            ]
          },
          "metadata": {},
          "execution_count": 18
        }
      ]
    },
    {
      "cell_type": "code",
      "metadata": {
        "colab": {
          "base_uri": "https://localhost:8080/",
          "height": 503
        },
        "id": "iLDVENqeB_6l",
        "outputId": "8b8e24e5-e36a-493b-cb00-358278c93f1c"
      },
      "source": [
        "plt.figure(figsize=(20, 8))\n",
        "sns.barplot(x=list(w.keys()), y=list(w.values()), palette='GnBu')"
      ],
      "execution_count": 20,
      "outputs": [
        {
          "output_type": "execute_result",
          "data": {
            "text/plain": [
              "<matplotlib.axes._subplots.AxesSubplot at 0x7fc2314da7d0>"
            ]
          },
          "metadata": {},
          "execution_count": 20
        },
        {
          "output_type": "display_data",
          "data": {
            "image/png": "[encoded data removed]",
            "text/plain": [
              "<Figure size 1440x576 with 1 Axes>"
            ]
          },
          "metadata": {
            "needs_background": "light"
          }
        }
      ]
    },
    {
      "cell_type": "code",
      "metadata": {
        "colab": {
          "base_uri": "https://localhost:8080/",
          "height": 204
        },
        "id": "TNN4MMxVNF2D",
        "outputId": "3a2e0042-4479-466d-908e-b4f7502612eb"
      },
      "source": [
        "pd.options.display.max_colwidth=150\n",
        "twtb = twt[['username', 'tweet']]\n",
        "twtb[twtb.username == 'miksemar_info'].head()"
      ],
      "execution_count": 59,
      "outputs": [
        {
          "output_type": "execute_result",
          "data": {
            "text/html": [
              "<div>\n",
              "<style scoped>\n",
              "    .dataframe tbody tr th:only-of-type {\n",
              "        vertical-align: middle;\n",
              "    }\n",
              "\n",
              "    .dataframe tbody tr th {\n",
              "        vertical-align: top;\n",
              "    }\n",
              "\n",
              "    .dataframe thead th {\n",
              "        text-align: right;\n",
              "    }\n",
              "</style>\n",
              "<table border=\"1\" class=\"dataframe\">\n",
              "  <thead>\n",
              "    <tr style=\"text-align: right;\">\n",
              "      <th></th>\n",
              "      <th>username</th>\n",
              "      <th>tweet</th>\n",
              "    </tr>\n",
              "  </thead>\n",
              "  <tbody>\n",
              "    <tr>\n",
              "      <th>17</th>\n",
              "      <td>miksemar_info</td>\n",
              "      <td>Informasi untuk @disperkim_smg lampu PJU di jl. Soekarno Hatta padam sudah 4 hari.\\n#LaporHendi \\nCc @P3Mkotasmg pic.twitter.com/JXTIx1llVF</td>\n",
              "    </tr>\n",
              "    <tr>\n",
              "      <th>63</th>\n",
              "      <td>miksemar_info</td>\n",
              "      <td>Informasi untuk @disperkim_smg @pln_123 ada pohon di jl. Pancur sari raya, kel. Jangli, kec. Tembalang, kota Semarang yang sudah menyentuh kabel P...</td>\n",
              "    </tr>\n",
              "    <tr>\n",
              "      <th>67</th>\n",
              "      <td>miksemar_info</td>\n",
              "      <td>Informasi untuk @Dishubkotasmg lampu APILL di arteri yos sudarso arah tanah mas tidak berfungsi.\\n#LaporHendi cc @P3Mkotasmg pic.twitter.com/eSD4b...</td>\n",
              "    </tr>\n",
              "    <tr>\n",
              "      <th>78</th>\n",
              "      <td>miksemar_info</td>\n",
              "      <td>Menginformasikan kepada @DLHKOTASEMARANG tentang kondisi kali di jl. Mayjen sutoyo yg sudah dipenuhi sampah.\\nCc @P3Mkotasmg #LaporHendi  pic.twit...</td>\n",
              "    </tr>\n",
              "    <tr>\n",
              "      <th>85</th>\n",
              "      <td>miksemar_info</td>\n",
              "      <td>Informasi untuk @damkar_semarang ada sarang tawon yang cukup besar di kebun binatang \"semarang zoo\", diatas kandang buaya.\\n#LaporHendi cc @P3Mkot...</td>\n",
              "    </tr>\n",
              "  </tbody>\n",
              "</table>\n",
              "</div>"
            ],
            "text/plain": [
              "         username                                                                                                                                                  tweet\n",
              "17  miksemar_info            Informasi untuk @disperkim_smg lampu PJU di jl. Soekarno Hatta padam sudah 4 hari.\\n#LaporHendi \\nCc @P3Mkotasmg pic.twitter.com/JXTIx1llVF\n",
              "63  miksemar_info  Informasi untuk @disperkim_smg @pln_123 ada pohon di jl. Pancur sari raya, kel. Jangli, kec. Tembalang, kota Semarang yang sudah menyentuh kabel P...\n",
              "67  miksemar_info  Informasi untuk @Dishubkotasmg lampu APILL di arteri yos sudarso arah tanah mas tidak berfungsi.\\n#LaporHendi cc @P3Mkotasmg pic.twitter.com/eSD4b...\n",
              "78  miksemar_info  Menginformasikan kepada @DLHKOTASEMARANG tentang kondisi kali di jl. Mayjen sutoyo yg sudah dipenuhi sampah.\\nCc @P3Mkotasmg #LaporHendi  pic.twit...\n",
              "85  miksemar_info  Informasi untuk @damkar_semarang ada sarang tawon yang cukup besar di kebun binatang \"semarang zoo\", diatas kandang buaya.\\n#LaporHendi cc @P3Mkot..."
            ]
          },
          "metadata": {},
          "execution_count": 59
        }
      ]
    },
    {
      "cell_type": "code",
      "metadata": {
        "colab": {
          "base_uri": "https://localhost:8080/",
          "height": 289
        },
        "id": "LPNsurwQ652P",
        "outputId": "febfe630-ca93-43cd-89cb-884820c65aff"
      },
      "source": [
        "twta = twt[['username', 'tweet', 'months']]\n",
        "twta = twta[twta['months']=='June']\n",
        "twta.head()"
      ],
      "execution_count": 22,
      "outputs": [
        {
          "output_type": "execute_result",
          "data": {
            "text/html": [
              "<div>\n",
              "<style scoped>\n",
              "    .dataframe tbody tr th:only-of-type {\n",
              "        vertical-align: middle;\n",
              "    }\n",
              "\n",
              "    .dataframe tbody tr th {\n",
              "        vertical-align: top;\n",
              "    }\n",
              "\n",
              "    .dataframe thead th {\n",
              "        text-align: right;\n",
              "    }\n",
              "</style>\n",
              "<table border=\"1\" class=\"dataframe\">\n",
              "  <thead>\n",
              "    <tr style=\"text-align: right;\">\n",
              "      <th></th>\n",
              "      <th>username</th>\n",
              "      <th>tweet</th>\n",
              "      <th>months</th>\n",
              "    </tr>\n",
              "  </thead>\n",
              "  <tbody>\n",
              "    <tr>\n",
              "      <th>581</th>\n",
              "      <td>masraden_andang</td>\n",
              "      <td>Terima kasih,,matur nuwun sanget bapak walikota semarang.mohon ijin bapak untuk perempatan krapyak,,dibawah bangjo yang dari arah sugriwo sering semrawut karena dijadikan pangkalan/tongkrongan taksi.bikin tambah macet pak wali..nuwun #laporhendi</td>\n",
              "      <td>June</td>\n",
              "    </tr>\n",
              "    <tr>\n",
              "      <th>582</th>\n",
              "      <td>wilyzyunanto</td>\n",
              "      <td>@hendrarprihadi @P3Mkotasmg mohon perbaikan jalan di antara jl dewi sartika dan kalialang...ada jalan -+200m rusak dan sering terjadi kebocoran pipa @PDAMKotaSMG yg smkn menambah kerusakan jln,spt skrg ada kebocoran pipa...mohon perbaikan pak @hendrarprihadi #Laporhendi  pic.twitter.com/d8ZOFgEQa3</td>\n",
              "      <td>June</td>\n",
              "    </tr>\n",
              "    <tr>\n",
              "      <th>583</th>\n",
              "      <td>apriantorizal</td>\n",
              "      <td>Ngapunten pak, wingi niko sanes saluran irigasi, ingkang leres saluran drainase. (salah ketik)\\nMeniko foto enjing wau njih pak.\\n(30 juni 2019)\\n\\nMatur suwun 🙏\\n#LaporHendi  pic.twitter.com/YBZVQKJLFs</td>\n",
              "      <td>June</td>\n",
              "    </tr>\n",
              "    <tr>\n",
              "      <th>584</th>\n",
              "      <td>corneliamoon11</td>\n",
              "      <td>jalan gajah raya diperlebar, banyak bis bis pariwisata ke majt padahal jalane sempit #laporhendi</td>\n",
              "      <td>June</td>\n",
              "    </tr>\n",
              "    <tr>\n",
              "      <th>585</th>\n",
              "      <td>hahananto</td>\n",
              "      <td>Sepanjang jalan pedurungan sampe mau masuk tol gayamsari aspal jalannya sudah pada ngeluntung pak, berasa goyang goyang kalo naik motor, bahaya. #LaporHendi</td>\n",
              "      <td>June</td>\n",
              "    </tr>\n",
              "  </tbody>\n",
              "</table>\n",
              "</div>"
            ],
            "text/plain": [
              "            username  ... months\n",
              "581  masraden_andang  ...   June\n",
              "582     wilyzyunanto  ...   June\n",
              "583    apriantorizal  ...   June\n",
              "584   corneliamoon11  ...   June\n",
              "585        hahananto  ...   June\n",
              "\n",
              "[5 rows x 3 columns]"
            ]
          },
          "metadata": {},
          "execution_count": 22
        }
      ]
    },
    {
      "cell_type": "markdown",
      "metadata": {
        "id": "2Eb_mdwFHqm6"
      },
      "source": [
        "Clean tweet berdasarkan https://gist.github.com/gracecarrillo/53ab0c64121514abe02a74e483fd29ce/revisions"
      ]
    },
    {
      "cell_type": "code",
      "metadata": {
        "id": "4Dx2X5hZIpv9"
      },
      "source": [
        "import re\n",
        "import string"
      ],
      "execution_count": 23,
      "outputs": []
    },
    {
      "cell_type": "code",
      "metadata": {
        "id": "28Rvur7z7d03"
      },
      "source": [
        "# cleaning helper function\n",
        "def processTweet(tweet):\n",
        "    \"\"\"\n",
        "    Takes in a string of text, then performs the following:\n",
        "    1. Removes links, special characters and other bulk cleaning\n",
        "    2. Returns a list of the tidy text\n",
        "    \"\"\"\n",
        "    # Remove HTML special entities (e.g. &amp;)\n",
        "    tweet = re.sub(r'\\&\\w*;', '', tweet)\n",
        "    #Convert @username to AT_USER\n",
        "    tweet = re.sub('@[^\\s]+','',tweet)\n",
        "    # Remove tickers\n",
        "    tweet = re.sub(r'\\$\\w*', '', tweet)\n",
        "    # To lowercase\n",
        "    tweet = tweet.lower()\n",
        "    # Remove hyperlinks\n",
        "    tweet = re.sub(r'https?:\\/\\/.*\\/\\w*', '', tweet)\n",
        "    # Remove hashtags\n",
        "    tweet = re.sub(r'#\\w*', '', tweet)\n",
        "    # Remove words with 2 or fewer letters\n",
        "    tweet = re.sub(r'\\b\\w{1,2}\\b', '', tweet)\n",
        "    # Remove whitespace (including new line characters)\n",
        "    tweet = re.sub(r'\\s\\s+', ' ', tweet)\n",
        "    # Remove single space remaining at the front of the tweet.\n",
        "    tweet = tweet.lstrip(' ') \n",
        "    # Remove characters beyond Basic Multilingual Plane (BMP) of Unicode:\n",
        "    tweet = ''.join(c for c in tweet if c <= '\\uFFFF') \n",
        "    #tambahan\n",
        "    tweet = re.sub(r'pic.twitter.com/', '', tweet)\n",
        "    tweet = re.sub(r'\\n', '', tweet)\n",
        "    tweet = re.sub(r'…', '', tweet)\n",
        "    return tweet\n"
      ],
      "execution_count": 24,
      "outputs": []
    },
    {
      "cell_type": "code",
      "metadata": {
        "colab": {
          "base_uri": "https://localhost:8080/"
        },
        "id": "Q0b9OG-uH3Ar",
        "outputId": "4c9039d6-2d98-43fa-ebbc-bb5ac3b863d3"
      },
      "source": [
        "# clean dataframe's text column\n",
        "twt['procs'] = twt['tweet'].apply(processTweet)\n",
        "# preview some cleaned tweets\n",
        "twt['procs']"
      ],
      "execution_count": 25,
      "outputs": [
        {
          "output_type": "execute_result",
          "data": {
            "text/plain": [
              "0                        pak ijin bertanya norma waktu permintaan surat keterangan pindah wni antar provinsi berapa lama? karena petugas ktp kecamatan gayamsari mengatakan min hari kerja. menurut saya terlalu lama pak krn domisili saya bukan semarang.\n",
              "1       nyuwun tulung pak mbok damelke lapangan sepak bola deket rusun baru kelurahan sawah besar soale dulu disitu lapangan bolanya menjadi pusat kegiatan olahraga warga pak tapi sekarang udah ndak ada tempat buat olah raga suwun suwun pak hjjlxzsqpx\n",
              "2                                                           slogan tidak terlihat jam2 malam seperti nya pak kemarin terjadi pembacokan jln arteri soekarno hatta, dan kejadian jln itu tidak terjadi sekali . mohon pengawasan untuk jajaran bpk walikota \n",
              "3                                                                                                                           lapor jalan depan pasar pedurungan ada yang pecah sudah lama tidak diperbaiki dan sangat berbahaya dan mengganggu lalu lintas. \n",
              "4                                                                                                                                                                     daerah purwosari semarang utara sdh dari jam mati lampunya .. kapan nyalanya pak pak \n",
              "                                                                                                                               ...                                                                                                                         \n",
              "1270                                                                                                                                                                            sekedar menyalurkan keluh kesah masyrakat biasa kota semarag tercinta ini. \n",
              "1271                                                                                         ndan mohon pantauannya pas malam hari banyak lampu jalan yang \"hidup segan mati tak mau' sepanjang jalan dari perempatan .genuk - dong biru , genuk ndan.suwun\n",
              "1272                                                                                        informasi untuk lampu pju dari jembatan layang pos pelabuhan sampai indonesia power, dan jembatan dekat pasar kubro mati. ini ikut instansi mana ... fwecws11nd\n",
              "1273                                                                                                                                                            maaf pak ingin menanyakan perihal lampu jalan ini koq belum ada tindak lanjut / sekarang ??\n",
              "1274                                                    mohon pita kejut ada kawasan bsb semarang ditinjau, sudah sesuai apa blm dgn aturan. krn tiap lewat pita kejut tersebut tdk hanya terkejut kendaraan ikut gemblodak, menyebabkan kerusakan. mohon. \n",
              "Name: procs, Length: 1275, dtype: object"
            ]
          },
          "metadata": {},
          "execution_count": 25
        }
      ]
    },
    {
      "cell_type": "code",
      "metadata": {
        "id": "y3N0iDbka9zW",
        "colab": {
          "base_uri": "https://localhost:8080/"
        },
        "outputId": "1c0b60f9-d506-43a6-ca5f-f9ff64c83e62"
      },
      "source": [
        "#!pip3 install git+https://github.com/sastrawi/sastrawi\n",
        "!pip3 install sastrawi"
      ],
      "execution_count": 28,
      "outputs": [
        {
          "output_type": "stream",
          "name": "stdout",
          "text": [
            "Collecting sastrawi\n",
            "  Downloading Sastrawi-1.0.1-py2.py3-none-any.whl (209 kB)\n",
            "\u001b[?25l\r\u001b[K     |█▋                              | 10 kB 24.1 MB/s eta 0:00:01\r\u001b[K     |███▏                            | 20 kB 30.3 MB/s eta 0:00:01\r\u001b[K     |████▊                           | 30 kB 35.3 MB/s eta 0:00:01\r\u001b[K     |██████▎                         | 40 kB 35.9 MB/s eta 0:00:01\r\u001b[K     |███████▉                        | 51 kB 36.7 MB/s eta 0:00:01\r\u001b[K     |█████████▍                      | 61 kB 30.2 MB/s eta 0:00:01\r\u001b[K     |███████████                     | 71 kB 28.8 MB/s eta 0:00:01\r\u001b[K     |████████████▌                   | 81 kB 28.4 MB/s eta 0:00:01\r\u001b[K     |██████████████                  | 92 kB 29.2 MB/s eta 0:00:01\r\u001b[K     |███████████████▋                | 102 kB 29.5 MB/s eta 0:00:01\r\u001b[K     |█████████████████▏              | 112 kB 29.5 MB/s eta 0:00:01\r\u001b[K     |██████████████████▊             | 122 kB 29.5 MB/s eta 0:00:01\r\u001b[K     |████████████████████▎           | 133 kB 29.5 MB/s eta 0:00:01\r\u001b[K     |█████████████████████▉          | 143 kB 29.5 MB/s eta 0:00:01\r\u001b[K     |███████████████████████▍        | 153 kB 29.5 MB/s eta 0:00:01\r\u001b[K     |█████████████████████████       | 163 kB 29.5 MB/s eta 0:00:01\r\u001b[K     |██████████████████████████▋     | 174 kB 29.5 MB/s eta 0:00:01\r\u001b[K     |████████████████████████████▏   | 184 kB 29.5 MB/s eta 0:00:01\r\u001b[K     |█████████████████████████████▊  | 194 kB 29.5 MB/s eta 0:00:01\r\u001b[K     |███████████████████████████████▎| 204 kB 29.5 MB/s eta 0:00:01\r\u001b[K     |████████████████████████████████| 209 kB 29.5 MB/s \n",
            "\u001b[?25hInstalling collected packages: sastrawi\n",
            "Successfully installed sastrawi-1.0.1\n"
          ]
        }
      ]
    },
    {
      "cell_type": "code",
      "metadata": {
        "id": "b1_MuzHmKOvE"
      },
      "source": [
        "from Sastrawi.StopWordRemover.StopWordRemoverFactory import StopWordRemoverFactory\n",
        "from Sastrawi.Stemmer.StemmerFactory import StemmerFactory\n",
        "stop_factory = StopWordRemoverFactory()\n",
        "factory = StemmerFactory()\n",
        "stemmer = factory.create_stemmer()\n",
        "#more_stopword = [‘dengan’, ‘ia’,’bahwa’,’oleh’]\n",
        "data = stop_factory.get_stop_words()#+more_stopword\n",
        "#stopword = stop_factory.create_stop_word_remover()\n",
        "#print(data)"
      ],
      "execution_count": 29,
      "outputs": []
    },
    {
      "cell_type": "code",
      "metadata": {
        "id": "M-7rOyroK-0v"
      },
      "source": [
        "# tokenize helper function\n",
        "def text_process(tweet):\n",
        "    \"\"\"\n",
        "    Takes in a string of text, then performs the following:\n",
        "    1. Remove all punctuation\n",
        "    2. Remove all stopwords\n",
        "    3. Returns a list of the cleaned text\n",
        "    \"\"\"\n",
        "    # Check characters to see if they are in punctuation\n",
        "    nopunc = [char for char in list(tweet) if char not in string.punctuation]\n",
        "\n",
        "    # Join the characters again to form the string.\n",
        "    nopunc = ''.join(nopunc)\n",
        "\n",
        "    # Now just remove any stopwords\n",
        "    return [word for word in nopunc.lower().split() if word.lower() not in stop_factory.get_stop_words()]"
      ],
      "execution_count": 30,
      "outputs": []
    },
    {
      "cell_type": "code",
      "metadata": {
        "id": "dGqntuA4LO1B"
      },
      "source": [
        "# Lexicon normalisation with Stemming \n",
        "def stemming(tokens):\n",
        "  \"\"\"\n",
        "  Takes in a string of text, then performs the following:\n",
        "  1. Replace words for its root based on orter Stemmer rule.\n",
        "  2. Returns normalised text\n",
        "   \"\"\"\n",
        "  #stemmer = PorterStemmer()\n",
        "  x = [stemmer.stem(w) for w in tokens]\n",
        "\n",
        "  return ' '.join(x)"
      ],
      "execution_count": 31,
      "outputs": []
    },
    {
      "cell_type": "code",
      "metadata": {
        "colab": {
          "base_uri": "https://localhost:8080/"
        },
        "id": "176f9epLXG3s",
        "outputId": "d48f6b98-526b-443a-9eab-f12fed63d668"
      },
      "source": [
        "#tokneizer\n",
        "twt['txtprocs'] = twt['procs'].apply(text_process)\n",
        "twt['txtprocs'].head()"
      ],
      "execution_count": 32,
      "outputs": [
        {
          "output_type": "execute_result",
          "data": {
            "text/plain": [
              "0                                               [pak, ijin, bertanya, norma, waktu, permintaan, surat, keterangan, pindah, wni, antar, provinsi, berapa, lama, petugas, ktp, kecamatan, gayamsari, mengatakan, min, hari, kerja, terlalu, lama, pak, krn, domisili, bukan, semarang]\n",
              "1    [nyuwun, tulung, pak, mbok, damelke, lapangan, sepak, bola, deket, rusun, baru, kelurahan, sawah, besar, soale, dulu, disitu, lapangan, bolanya, menjadi, pusat, kegiatan, olahraga, warga, pak, sekarang, udah, ndak, tempat, buat, olah, raga, suwun, suwun, pak, hjjlxzsqpx]\n",
              "2                                                                                                   [slogan, terlihat, jam2, malam, nya, pak, kemarin, terjadi, pembacokan, jln, arteri, soekarno, hatta, kejadian, jln, terjadi, sekali, mohon, pengawasan, jajaran, bpk, walikota]\n",
              "3                                                                                                                                                                     [lapor, jalan, depan, pasar, pedurungan, pecah, lama, diperbaiki, sangat, berbahaya, mengganggu, lalu, lintas]\n",
              "4                                                                                                                                                                                          [daerah, purwosari, semarang, utara, sdh, jam, mati, lampunya, kapan, nyalanya, pak, pak]\n",
              "Name: txtprocs, dtype: object"
            ]
          },
          "metadata": {},
          "execution_count": 32
        }
      ]
    },
    {
      "cell_type": "code",
      "metadata": {
        "colab": {
          "base_uri": "https://localhost:8080/"
        },
        "id": "smXvOSJKyWW1",
        "outputId": "609dd761-430b-449b-ff9b-1d02ee592faa"
      },
      "source": [
        "q = dict(Counter(twt['txtprocs'].sum()).most_common(10))\n",
        "q"
      ],
      "execution_count": 35,
      "outputs": [
        {
          "output_type": "execute_result",
          "data": {
            "text/plain": [
              "{'air': 151,\n",
              " 'hari': 105,\n",
              " 'jalan': 277,\n",
              " 'kasih': 92,\n",
              " 'kota': 106,\n",
              " 'lapor': 106,\n",
              " 'mati': 106,\n",
              " 'mohon': 236,\n",
              " 'pak': 773,\n",
              " 'semarang': 215}"
            ]
          },
          "metadata": {},
          "execution_count": 35
        }
      ]
    },
    {
      "cell_type": "code",
      "metadata": {
        "colab": {
          "base_uri": "https://localhost:8080/",
          "height": 500
        },
        "id": "eqYSFqtagcr2",
        "outputId": "f63fdf6b-0acf-412d-b6b3-fe530a80430e"
      },
      "source": [
        "plt.figure(figsize=(20, 8))\n",
        "sns.barplot(x=list(q.keys()), y=list(q.values()), palette='GnBu')"
      ],
      "execution_count": 36,
      "outputs": [
        {
          "output_type": "execute_result",
          "data": {
            "text/plain": [
              "<matplotlib.axes._subplots.AxesSubplot at 0x7fc211611fd0>"
            ]
          },
          "metadata": {},
          "execution_count": 36
        },
        {
          "output_type": "display_data",
          "data": {
            "image/png": "[encoded data removed]",
            "text/plain": [
              "<Figure size 1440x576 with 1 Axes>"
            ]
          },
          "metadata": {
            "needs_background": "light"
          }
        }
      ]
    },
    {
      "cell_type": "code",
      "metadata": {
        "colab": {
          "base_uri": "https://localhost:8080/"
        },
        "id": "xSy22XETXui3",
        "outputId": "bb19c1ac-318c-4a2d-dd16-2e093fc5dfe3"
      },
      "source": [
        "twt['twtstem'] = twt['txtprocs'].apply(stemming)\n",
        "twt['twtstem'].head()"
      ],
      "execution_count": 37,
      "outputs": [
        {
          "output_type": "execute_result",
          "data": {
            "text/plain": [
              "0                                            pak ijin tanya norma waktu minta surat terang pindah wni antar provinsi berapa lama tugas ktp camat gayamsari kata min hari kerja terlalu lama pak krn domisili bukan semarang\n",
              "1    nyuwun tulung pak mbok damelke lapang sepak bola deket rusun baru lurah sawah besar soale dulu situ lapang bola jadi pusat giat olahraga warga pak sekarang udah ndak tempat buat olah raga suwun suwun pak hjjlxzsqpx\n",
              "2                                                                                            slogan lihat jam2 malam nya pak kemarin jadi baco jln arteri soekarno hatta jadi jln jadi sekali mohon awas jajar bpk walikota\n",
              "3                                                                                                                                       lapor jalan depan pasar pedurungan pecah lama baik sangat bahaya ganggu lalu lintas\n",
              "4                                                                                                                                                    daerah purwosari semarang utara sdh jam mati lampu kapan nyala pak pak\n",
              "Name: twtstem, dtype: object"
            ]
          },
          "metadata": {},
          "execution_count": 37
        }
      ]
    },
    {
      "cell_type": "code",
      "metadata": {
        "colab": {
          "base_uri": "https://localhost:8080/"
        },
        "id": "ytrdI4rUi-oe",
        "outputId": "91f2bb23-dd34-43db-e477-9eb243405646"
      },
      "source": [
        "#tokneizer\n",
        "twt['txtprocs2'] = twt['twtstem'].apply(text_process)\n",
        "twt['txtprocs2'].head()"
      ],
      "execution_count": 38,
      "outputs": [
        {
          "output_type": "execute_result",
          "data": {
            "text/plain": [
              "0                                                   [pak, ijin, tanya, norma, waktu, minta, surat, terang, pindah, wni, antar, provinsi, berapa, lama, tugas, ktp, camat, gayamsari, kata, min, hari, kerja, terlalu, lama, pak, krn, domisili, bukan, semarang]\n",
              "1    [nyuwun, tulung, pak, mbok, damelke, lapang, sepak, bola, deket, rusun, baru, lurah, sawah, besar, soale, dulu, situ, lapang, bola, jadi, pusat, giat, olahraga, warga, pak, sekarang, udah, ndak, tempat, buat, olah, raga, suwun, suwun, pak, hjjlxzsqpx]\n",
              "2                                                                                                          [slogan, lihat, jam2, malam, nya, pak, kemarin, jadi, baco, jln, arteri, soekarno, hatta, jadi, jln, jadi, sekali, mohon, awas, jajar, bpk, walikota]\n",
              "3                                                                                                                                                              [lapor, jalan, depan, pasar, pedurungan, pecah, lama, baik, sangat, bahaya, ganggu, lalu, lintas]\n",
              "4                                                                                                                                                                            [daerah, purwosari, semarang, utara, sdh, jam, mati, lampu, kapan, nyala, pak, pak]\n",
              "Name: txtprocs2, dtype: object"
            ]
          },
          "metadata": {},
          "execution_count": 38
        }
      ]
    },
    {
      "cell_type": "code",
      "metadata": {
        "colab": {
          "base_uri": "https://localhost:8080/"
        },
        "id": "kWQmQczZjNDW",
        "outputId": "bc3edeaa-32be-4357-ad38-ce0df90a0d5b"
      },
      "source": [
        "r = dict(Counter(twt['txtprocs'].sum()).most_common(10))\n",
        "r"
      ],
      "execution_count": 39,
      "outputs": [
        {
          "output_type": "execute_result",
          "data": {
            "text/plain": [
              "{'air': 151,\n",
              " 'hari': 105,\n",
              " 'jalan': 277,\n",
              " 'kasih': 92,\n",
              " 'kota': 106,\n",
              " 'lapor': 106,\n",
              " 'mati': 106,\n",
              " 'mohon': 236,\n",
              " 'pak': 773,\n",
              " 'semarang': 215}"
            ]
          },
          "metadata": {},
          "execution_count": 39
        }
      ]
    },
    {
      "cell_type": "code",
      "metadata": {
        "colab": {
          "base_uri": "https://localhost:8080/",
          "height": 500
        },
        "id": "BbLdScX4jTUp",
        "outputId": "6ee4ae91-5cee-40d1-b43f-3bc40e71d61e"
      },
      "source": [
        "plt.figure(figsize=(20, 8))\n",
        "sns.barplot(x=list(r.keys()), y=list(r.values()), palette='GnBu')"
      ],
      "execution_count": 41,
      "outputs": [
        {
          "output_type": "execute_result",
          "data": {
            "text/plain": [
              "<matplotlib.axes._subplots.AxesSubplot at 0x7fc2111eded0>"
            ]
          },
          "metadata": {},
          "execution_count": 41
        },
        {
          "output_type": "display_data",
          "data": {
            "image/png": "[encoded data removed]",
            "text/plain": [
              "<Figure size 1440x576 with 1 Axes>"
            ]
          },
          "metadata": {
            "needs_background": "light"
          }
        }
      ]
    },
    {
      "cell_type": "code",
      "metadata": {
        "id": "HSnl55QtMacY"
      },
      "source": [
        "def remove_words(word_list):\n",
        "    remove = ['pak','ini','...','untuk','yang','ada','…','dan', 'tidak', 'semarang', 'mohon', 'saya', 'dari', 'sudah', 'hari', 'bisa', 'lapor', 'tolong', 'apa', 'mau', 'sampai', 'depan', 'jam', 'pagi', 'terima']\n",
        "    return [w for w in word_list if w not in remove]"
      ],
      "execution_count": 42,
      "outputs": []
    },
    {
      "cell_type": "code",
      "metadata": {
        "colab": {
          "base_uri": "https://localhost:8080/"
        },
        "id": "XR6uwJuqjfK4",
        "outputId": "ef514f06-aa31-4abe-990b-da488e85b8ca"
      },
      "source": [
        "twt['bersih'] = twt['txtprocs2'].apply(remove_words)\n",
        "twt['bersih'].head()"
      ],
      "execution_count": 46,
      "outputs": [
        {
          "output_type": "execute_result",
          "data": {
            "text/plain": [
              "0                                                              [ijin, tanya, norma, waktu, minta, surat, terang, pindah, wni, antar, provinsi, berapa, lama, tugas, ktp, camat, gayamsari, kata, min, kerja, terlalu, lama, krn, domisili, bukan]\n",
              "1    [nyuwun, tulung, mbok, damelke, lapang, sepak, bola, deket, rusun, baru, lurah, sawah, besar, soale, dulu, situ, lapang, bola, jadi, pusat, giat, olahraga, warga, sekarang, udah, ndak, tempat, buat, olah, raga, suwun, suwun, hjjlxzsqpx]\n",
              "2                                                                                                       [slogan, lihat, jam2, malam, nya, kemarin, jadi, baco, jln, arteri, soekarno, hatta, jadi, jln, jadi, sekali, awas, jajar, bpk, walikota]\n",
              "3                                                                                                                                                             [jalan, pasar, pedurungan, pecah, lama, baik, sangat, bahaya, ganggu, lalu, lintas]\n",
              "4                                                                                                                                                                                      [daerah, purwosari, utara, sdh, mati, lampu, kapan, nyala]\n",
              "Name: bersih, dtype: object"
            ]
          },
          "metadata": {},
          "execution_count": 46
        }
      ]
    },
    {
      "cell_type": "code",
      "metadata": {
        "colab": {
          "base_uri": "https://localhost:8080/"
        },
        "id": "UKI5J_QWj2F-",
        "outputId": "f2097994-3429-4c14-bdbd-f72000d5bec2"
      },
      "source": [
        "t = dict(Counter(twt['bersih'].sum()).most_common(10))\n",
        "t"
      ],
      "execution_count": 47,
      "outputs": [
        {
          "output_type": "execute_result",
          "data": {
            "text/plain": [
              "{'air': 176,\n",
              " 'bantu': 83,\n",
              " 'jadi': 98,\n",
              " 'jalan': 305,\n",
              " 'kasih': 98,\n",
              " 'kota': 111,\n",
              " 'lampu': 88,\n",
              " 'mati': 118,\n",
              " 'parkir': 105,\n",
              " 'warga': 85}"
            ]
          },
          "metadata": {},
          "execution_count": 47
        }
      ]
    },
    {
      "cell_type": "code",
      "metadata": {
        "colab": {
          "base_uri": "https://localhost:8080/",
          "height": 500
        },
        "id": "XxoGgRD-k7Qw",
        "outputId": "e29a81cd-baf3-4860-8ef3-da8d6f709a9f"
      },
      "source": [
        "plt.figure(figsize=(20, 8))\n",
        "sns.barplot(x=list(t.keys()), y=list(t.values()), palette='GnBu')"
      ],
      "execution_count": 48,
      "outputs": [
        {
          "output_type": "execute_result",
          "data": {
            "text/plain": [
              "<matplotlib.axes._subplots.AxesSubplot at 0x7fc211516ed0>"
            ]
          },
          "metadata": {},
          "execution_count": 48
        },
        {
          "output_type": "display_data",
          "data": {
            "image/png": "[encoded data removed]",
            "text/plain": [
              "<Figure size 1440x576 with 1 Axes>"
            ]
          },
          "metadata": {
            "needs_background": "light"
          }
        }
      ]
    },
    {
      "cell_type": "code",
      "metadata": {
        "colab": {
          "base_uri": "https://localhost:8080/"
        },
        "id": "XItLgEHiLXzi",
        "outputId": "e5bb095d-42a4-47d0-e29e-87fc607674c2"
      },
      "source": [
        "twtjalan = twt[twt[\"twtstem\"].str.lower().str.contains(\"jalan\")].head()\n",
        "twtjalan['tweet'].head()"
      ],
      "execution_count": 61,
      "outputs": [
        {
          "output_type": "execute_result",
          "data": {
            "text/plain": [
              "3     @P3Mkotasmg Lapor jalan di depan Pasar Pedurungan ada yang pecah sudah lama tidak diperbaiki dan sangat berbahaya dan mengganggu lalu lintas. #Lap...\n",
              "7     Sekalian pak, lokas di jalan sebelum bangjo perempatan kaligarang (kalo dari arah kelud).\\n\\nCc: @hendrarprihadi @mbakITASMG @P3Mkotasmg @Dishubko...\n",
              "10                       @hendrarprihadi @P3Mkotasmg #LaporHendi lampu penerang jalan di sekitar jalan Majapahit mati semua pak  pic.twitter.com/q4RAynw8UD\n",
              "22                                                                                   Jalan gajah dan medoho kpn pak\\nKan akses masjid agung pak #laporhendi\n",
              "31    @hendrarprihadi Selamat pagi pak. Saya mohon kepada bapak, akses jalan menuju pantai tirang segera diperbaiki. Kemarin saya main ke pantai tirang,...\n",
              "Name: tweet, dtype: object"
            ]
          },
          "metadata": {},
          "execution_count": 61
        }
      ]
    },
    {
      "cell_type": "code",
      "metadata": {
        "id": "yIUty3WoLjzO",
        "colab": {
          "base_uri": "https://localhost:8080/"
        },
        "outputId": "9cee6461-8786-4162-b1cd-d7a93d65caa6"
      },
      "source": [
        "twtjalan = twt[twt[\"twtstem\"].str.lower().str.contains(\"air\")].head()\n",
        "twtjalan['tweet'].head()"
      ],
      "execution_count": 62,
      "outputs": [
        {
          "output_type": "execute_result",
          "data": {
            "text/plain": [
              "12    #LaporHendi pak, kemarin di daerah genuk indah ada penggusuran PKL oleh satpol pp, tapi kok malah bikin saluran airnya terhambat ya, tolong disuru...\n",
              "15    @P3Mkotasmg @PDAMKotaSMG @hendrarprihadi #LaporHendi mohon di bantu kembali baru 2 hari air lancar ya walaupun alirannya masih kecil hari ini seha...\n",
              "23    @P3Mkotasmg @PDAMKotaSMG @hendrarprihadi #LaporHendi mohon di bantu ini sudah ada 2 hari air tdk mengalir di jl kumudasmoro tengah III, kering ker...\n",
              "24                                             @PDAMKotaSMG #laporhendi @ganjarpranowo @hendrarprihadi kapan nyalanya air di sekitaran grennwood kalialang.\n",
              "41    @PDAMKotaSMG  mau tanya kok ini air PDAM di Perum Bukit Cemara Residence bulusan, Tembalang dri akhir september sampai skrng kok blm mengalir ya? ...\n",
              "Name: tweet, dtype: object"
            ]
          },
          "metadata": {},
          "execution_count": 62
        }
      ]
    },
    {
      "cell_type": "code",
      "metadata": {
        "id": "O2peHtc7n_Dv"
      },
      "source": [
        ""
      ],
      "execution_count": null,
      "outputs": []
    }
  ]
}